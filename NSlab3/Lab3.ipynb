{
  "cells": [
    {
      "cell_type": "markdown",
      "metadata": {
        "id": "fddM8rUiQV6o"
      },
      "source": [
        "# **Laboratory 3** : visualization with igraph"
      ]
    },
    {
      "cell_type": "markdown",
      "metadata": {
        "id": "y98YRAQ-QV6w"
      },
      "source": [
        "## Setup"
      ]
    },
    {
      "cell_type": "markdown",
      "metadata": {
        "id": "XjqkKiW79two"
      },
      "source": [
        "### Install the libraries"
      ]
    },
    {
      "cell_type": "code",
      "execution_count": null,
      "metadata": {
        "id": "YA07wIBgQV6x"
      },
      "outputs": [],
      "source": [
        "!pip install python-igraph\n",
        "!pip install cairocffi"
      ]
    },
    {
      "cell_type": "markdown",
      "metadata": {
        "id": "IeCEI3ZpQV61"
      },
      "source": [
        "### Import libraries"
      ]
    },
    {
      "cell_type": "code",
      "execution_count": null,
      "metadata": {
        "id": "VDolf6wvQV62"
      },
      "outputs": [],
      "source": [
        "import pandas as pd\n",
        "import itertools\n",
        "import networkx as nx\n",
        "import igraph as ig\n",
        "import ast\n",
        "import cairocffi as cairo\n",
        "import random\n",
        "import math"
      ]
    },
    {
      "cell_type": "markdown",
      "metadata": {
        "id": "SJa03KEeQV63"
      },
      "source": [
        "## Step 1: Create graph from data"
      ]
    },
    {
      "cell_type": "markdown",
      "metadata": {
        "id": "v3ezQHdwQV64"
      },
      "source": [
        "### 1. Create networkx graph from weighted edgelist"
      ]
    },
    {
      "cell_type": "code",
      "execution_count": null,
      "metadata": {
        "id": "nvCFiUfGQV64"
      },
      "outputs": [],
      "source": [
        "!cat edges.csv"
      ]
    },
    {
      "cell_type": "code",
      "execution_count": null,
      "metadata": {
        "id": "LR9eGMDeQV67"
      },
      "outputs": [],
      "source": [
        "friendship_nw = nx.read_weighted_edgelist(\"edges.csv\",delimiter=\",\")"
      ]
    },
    {
      "cell_type": "markdown",
      "metadata": {
        "id": "TI7XfnaIQV6-"
      },
      "source": [
        "### 2. Change into igraph"
      ]
    },
    {
      "cell_type": "code",
      "execution_count": null,
      "metadata": {
        "id": "9eBs9xvtQV6-"
      },
      "outputs": [],
      "source": [
        "g = ig.Graph.from_networkx(friendship_nw)"
      ]
    },
    {
      "cell_type": "code",
      "execution_count": null,
      "metadata": {
        "id": "uga4N0pxQV6-"
      },
      "outputs": [],
      "source": [
        "for vertice in g.vs:\n",
        "    print(vertice.attributes())\n",
        "for edge in g.es:\n",
        "    print(edge.attributes())"
      ]
    },
    {
      "cell_type": "markdown",
      "metadata": {
        "id": "t6NOmoYuQV6_"
      },
      "source": [
        "## Step 2: Plotting the graph"
      ]
    },
    {
      "cell_type": "code",
      "execution_count": null,
      "metadata": {
        "id": "iJhXTkywQV7A"
      },
      "outputs": [],
      "source": [
        "ig.plot(g)"
      ]
    },
    {
      "cell_type": "markdown",
      "metadata": {
        "id": "mfkPVx8ZQV7B"
      },
      "source": [
        "### Setting plot properties"
      ]
    },
    {
      "cell_type": "code",
      "execution_count": null,
      "metadata": {
        "id": "fi-CY5XRQV7K",
        "scrolled": true
      },
      "outputs": [],
      "source": [
        "#dict of X11 color names\n",
        "colors = ig.drawing.colors.known_colors\n",
        "colors = list(colors.keys())\n",
        "#set label to be names of nx graph nodes\n",
        "g.vs[\"label\"] = g.vs[\"_nx_name\"]\n",
        "\n",
        "visual_style = {}\n",
        "#node size\n",
        "visual_style[\"vertex_size\"] = 20\n",
        "#node color\n",
        "visual_style[\"vertex_color\"] =  random.sample(colors,len(g.vs()))\n",
        "#node label\n",
        "visual_style[\"vertex_label\"] = g.vs[\"label\"]\n",
        "#node label color\n",
        "visual_style[\"vertex_label_color\"] = \"black\"\n",
        "#node label size\n",
        "visual_style[\"vertex_label_size\"] = [3*degree for degree in g.degree()]\n",
        "#edge thickness\n",
        "visual_style[\"edge_width\"] = [0.14 * int(weight) for weight in g.es[\"weight\"]]\n",
        "#bounding box\n",
        "visual_style[\"bbox\"] = (500, 500)\n",
        "#margin\n",
        "visual_style[\"margin\"] = 20\n",
        "\n",
        "ig.plot(g, **visual_style)"
      ]
    },
    {
      "cell_type": "markdown",
      "metadata": {
        "id": "TK27MTPHQV7L"
      },
      "source": [
        "### Choosing a layout"
      ]
    },
    {
      "cell_type": "code",
      "execution_count": null,
      "metadata": {
        "id": "Pfv2WCj8QV7M"
      },
      "outputs": [],
      "source": [
        "#use layout algorithms\n",
        "#The default is auto, which selects a layout algorithm automatically based on the size and connectedness of\n",
        "#the graph. For this graph it's one of the \"force\" algorithms (fr, kk - they all give similar values)\n",
        "\n",
        "colsep, rowsep = 40, 40\n",
        "width, height = 300, 300\n",
        "\n",
        "visual_style = {}\n",
        "#node size\n",
        "visual_style[\"vertex_size\"] = 20\n",
        "#node color\n",
        "visual_style[\"vertex_color\"] = [random.choice(colors) for v in g.vs()]\n",
        "#node label\n",
        "visual_style[\"vertex_label\"] = g.vs[\"label\"]\n",
        "#node label color\n",
        "visual_style[\"vertex_label_color\"] = \"black\"\n",
        "#node label size\n",
        "visual_style[\"vertex_label_size\"] = [3*degree for degree in g.degree()]\n",
        "#edge thickness\n",
        "visual_style[\"edge_width\"] = [0.14 * int(weight) for weight in g.es[\"weight\"]]\n",
        "\n",
        "plot = ig.plot(\"plot.png\", bbox=(4*width, 4*height), background=\"white\")\n",
        "\n",
        "\n",
        "plot.add(g, **visual_style,bbox=(colsep/2 + width*0, rowsep/2 + height*0, -colsep/2 + width*(0+1), -rowsep/2 + height*(0+1)),layout=\"fr\")\n",
        "plot.add(g, **visual_style,bbox=(colsep/2 + width*1, rowsep/2 + height*0, -colsep/2 + width*(1+1), -rowsep/2 + height*(0+1)),layout=\"kk\")\n",
        "plot.add(g, **visual_style,bbox=(colsep/2 + width*0, rowsep/2 + height*1, -colsep/2 + width*(0+1), -rowsep/2 + height*(1+1)),layout=\"circle\")\n",
        "plot.add(g, **visual_style,bbox=(colsep/2 + width*1, rowsep/2 + height*1, -colsep/2 + width*(1+1), -rowsep/2 + height*(1+1)),layout=\"tree\")\n",
        "\n",
        "plot"
      ]
    },
    {
      "cell_type": "markdown",
      "metadata": {
        "id": "8OMU1iFvQV7O"
      },
      "source": [
        "## Step 3: Saving the plot"
      ]
    },
    {
      "cell_type": "markdown",
      "metadata": {
        "id": "AGSqwFIfQV7O"
      },
      "source": [
        "### As PDF, PNG or SVG"
      ]
    },
    {
      "cell_type": "code",
      "execution_count": null,
      "metadata": {
        "id": "hagxD8NW1Yk6"
      },
      "outputs": [],
      "source": [
        "visual_style"
      ]
    },
    {
      "cell_type": "code",
      "execution_count": null,
      "metadata": {
        "id": "8_L0g6yDQV7P"
      },
      "outputs": [],
      "source": [
        "ig.plot(g, \"friendship_network.pdf\", **visual_style)"
      ]
    },
    {
      "cell_type": "markdown",
      "metadata": {
        "id": "EUV0J-0TQV7P"
      },
      "source": [
        "### Alternative\n",
        "https://igraph.org/python/doc/igraph.Graph-class.html#write_svg"
      ]
    },
    {
      "cell_type": "code",
      "execution_count": null,
      "metadata": {
        "id": "QPgaKGTmQV7P"
      },
      "outputs": [],
      "source": [
        "visual_style = {}\n",
        "#node size\n",
        "visual_style[\"vertex_size\"] = 20\n",
        "#node color\n",
        "visual_style[\"colors\"] = [\"pink\" for node in g.vs()]\n",
        "#node label\n",
        "visual_style[\"labels\"] = g.vs[\"label\"]\n",
        "#node label size\n",
        "visual_style[\"font_size\"] = \"14\"\n",
        "#edge thickness\n",
        "visual_style[\"edge_stroke_widths\"] = [0.14 * int(weight) for weight in g.es[\"weight\"]]\n",
        "#bounding box\n",
        "visual_style[\"width\"] = 500\n",
        "visual_style[\"height\"] = 500\n",
        "\n",
        "g.write_svg(\"friendship_network\",**visual_style)\n"
      ]
    },
    {
      "cell_type": "markdown",
      "metadata": {
        "id": "8NMb0ZJOQV7Q"
      },
      "source": [
        "## Network properties visualization"
      ]
    },
    {
      "cell_type": "markdown",
      "metadata": {
        "id": "ak_Ar77MQV7R"
      },
      "source": [
        "### 1. Create networkx graph with node and edge information"
      ]
    },
    {
      "cell_type": "code",
      "source": [
        "!cat edges_numericalid.csv"
      ],
      "metadata": {
        "id": "W7XjUMwr8Jub"
      },
      "execution_count": null,
      "outputs": []
    },
    {
      "cell_type": "code",
      "execution_count": null,
      "metadata": {
        "id": "u6F6KhlWQV7S"
      },
      "outputs": [],
      "source": [
        "edges = pd.read_csv('edges_numericalid.csv', sep=\";\")\n",
        "friendship_nw_prop = nx.from_pandas_edgelist(edges, 'Source', 'Target', ['Weight'])\n",
        "\n",
        "nodes = pd.read_csv('nodes.csv', header=0,delim_whitespace=True)\n",
        "nodes = nodes.set_index('Id').to_dict('index').items()\n",
        "\n",
        "friendship_nw_prop.add_nodes_from(nodes)\n",
        "print(friendship_nw_prop.nodes(data=True))\n",
        "print(friendship_nw_prop.edges(data=True))\n"
      ]
    },
    {
      "cell_type": "markdown",
      "metadata": {
        "id": "ptdFyjiDQV7S"
      },
      "source": [
        "### 2. Change into igraph"
      ]
    },
    {
      "cell_type": "code",
      "execution_count": null,
      "metadata": {
        "id": "t5VNueLDQV7T"
      },
      "outputs": [],
      "source": [
        "g_prop = ig.Graph.from_networkx(friendship_nw_prop)\n",
        "\n",
        "for vertice in g_prop.vs:\n",
        "    print(vertice.attributes())\n",
        "for edge in g_prop.es:\n",
        "    print(edge.attributes())"
      ]
    },
    {
      "cell_type": "markdown",
      "metadata": {
        "id": "6rm9a8MyQV7T"
      },
      "source": [
        "### 3. Color nodes according to properties"
      ]
    },
    {
      "cell_type": "code",
      "execution_count": null,
      "metadata": {
        "id": "NtHhREUDQV7T"
      },
      "outputs": [],
      "source": [
        "colors_dict = {\"Bosnia and Herzegovina\":\"blue\", \"Italy\":\"darkgreen\",\"Germany\":\"yellow\",\"Austria\":\"red\",\"The Netherlands\":\"White\"}\n",
        "\n",
        "visual_style = {}\n",
        "#node size\n",
        "visual_style[\"vertex_size\"] = 20\n",
        "#node color\n",
        "visual_style[\"vertex_color\"] = [colors_dict[country] for country in g_prop.vs[\"Country\"] ]\n",
        "#node label\n",
        "visual_style[\"vertex_label\"] = g_prop.vs[\"Label\"]\n",
        "#label size\n",
        "visual_style[\"vertex_label_size\"] = [3*degree if degree>2 else 7 for degree in g_prop.degree()]\n",
        "#edge thickness\n",
        "visual_style[\"edge_width\"] = [0.1 * int(weight) for weight in g_prop.es[\"Weight\"]]\n",
        "#bounding box\n",
        "visual_style[\"bbox\"] = (500, 500)\n",
        "#margin\n",
        "visual_style[\"margin\"] = 20\n",
        "ig.plot(g_prop, **visual_style)\n"
      ]
    },
    {
      "cell_type": "markdown",
      "metadata": {
        "id": "AWItKlRTQV7U"
      },
      "source": [
        "### 4. Look at network properties"
      ]
    },
    {
      "cell_type": "markdown",
      "metadata": {
        "id": "xS0oxf-JQV7V"
      },
      "source": [
        "#### Size"
      ]
    },
    {
      "cell_type": "code",
      "execution_count": null,
      "metadata": {
        "id": "TIZnamOBQV7V"
      },
      "outputs": [],
      "source": [
        "# GRAPH ORDER = NO OF NODES\n",
        "\n",
        "nodes = g_prop.vs()\n",
        "edges = g_prop.es()\n",
        "\n",
        "print(\"Graph order:\", len(nodes))\n",
        "\n",
        "# GRAPH SIZE = NO OF EDGES\n",
        "\n",
        "print(\"Graph size:\", len(edges))\n",
        "\n",
        "# DENSITY - HOW CONNECTED ARE THE NODES? NO OF EDGES/NO OF POSSIBLE EDGES\n",
        "\n",
        "print(\"Number of possible edges (N*(N-1)):\", 22*21)\n",
        "print(\"Graph density:\", g_prop.density())\n",
        "\n",
        "\n",
        "ig.plot(g_prop, **visual_style)"
      ]
    },
    {
      "cell_type": "markdown",
      "metadata": {
        "id": "QrEImbezQV7W"
      },
      "source": [
        "#### Connectedness"
      ]
    },
    {
      "cell_type": "code",
      "execution_count": null,
      "metadata": {
        "id": "WpgFwZeAQV7W"
      },
      "outputs": [],
      "source": [
        "# CONNECTEDNESS - EASIEST TO INSPECT VISUALLY\n",
        "\n",
        "print(\"Is the graph connected:\",\"yes\" if g_prop.is_connected() else \"no\")\n",
        "\n",
        "#IF NOT YOU CAN FIND ISOLATED COMPONENENTS\n",
        "for component in g_prop.components():\n",
        "  print(component)"
      ]
    },
    {
      "cell_type": "markdown",
      "metadata": {
        "id": "tI5G88T-QV7X"
      },
      "source": [
        "#### Node degrees"
      ]
    },
    {
      "cell_type": "code",
      "execution_count": null,
      "metadata": {
        "id": "_6kRbn93QV7X"
      },
      "outputs": [],
      "source": [
        "# CONNECTIVITY - HOW WELL CONNECTED A NODE IS\n",
        "\n",
        "print(\"Node degrees:\"),\n",
        "\n",
        "for node in g_prop.vs():\n",
        "    print(\"  \",node[\"Label\"],\"degree:\",node.degree())\n",
        "\n",
        "#SET SIZE PROP TO DEGREE\n",
        "visual_style[\"vertex_size\"] = [4*degree if degree>3 else 20 for degree in g_prop.degree()]\n",
        "\n",
        "#COLOR NEAREST NEIGHBORS OF A CERTAIN NODE\n",
        "node_name = \"Lejla\"\n",
        "for node in nodes:\n",
        "    if node[\"Label\"] == node_name:\n",
        "        node_index = node.index\n",
        "\n",
        "neighbors = g_prop.neighborhood(nodes[node_index],order=1)\n",
        "visual_style[\"vertex_color\"] = [\"fuchsia\" if node.index in neighbors else \"grey\" for node in nodes]\n",
        "visual_style[\"edge_color\"] = \"darkgrey\"\n",
        "\n",
        "ig.plot(g_prop, **visual_style)\n"
      ]
    },
    {
      "cell_type": "markdown",
      "metadata": {
        "id": "wkI6r7SzQV7X"
      },
      "source": [
        "#### Network diameter"
      ]
    },
    {
      "cell_type": "code",
      "execution_count": null,
      "metadata": {
        "id": "zJE1_4OOQV7Y"
      },
      "outputs": [],
      "source": [
        "# DIAMETER - HOW FAR ARE THE TWO MOST DISTANT NODES\n",
        "\n",
        "print(\"Network diameter:\", g_prop.diameter(directed=False))\n",
        "d = g_prop.get_diameter()\n",
        "# GET NODES IN THE DIAMETER PATH\n",
        "diameter_path = []\n",
        "for i in range(0, g_prop.diameter()):\n",
        "  diameter_path.append((d[i], d[i+1]))\n",
        "# GET EDGES IN THE DIAMETER PATH\n",
        "diameter_edges = g_prop.get_eids(pairs=diameter_path, directed=False)\n",
        "\n",
        "\n",
        "#COLOR THE DIAMETER PATH\n",
        "visual_style[\"vertex_color\"] = [\"red\" if node.index in diameter_path else \"white\" for node in nodes]\n",
        "visual_style[\"edge_color\"] = [\"red\" if edge.index in diameter_edges else \"black\" for edge in edges]\n",
        "\n",
        "\n",
        "print(\"Path between most distant nodes:\", [nodes[index][\"Label\"] for index in diameter_path])\n",
        "\n",
        "# AVERAGE PATH LENGTH - HOW CLOSE ARE THE NODES TO EACH OTHER ON AVERAGE\n",
        "\n",
        "print(\"Average path length:\", g_prop.average_path_length(directed=False))\n",
        "\n",
        "ig.plot(g_prop, **visual_style)\n"
      ]
    },
    {
      "cell_type": "markdown",
      "metadata": {
        "id": "OdlUMnh9QV7Y"
      },
      "source": [
        "#### Shortest paths"
      ]
    },
    {
      "cell_type": "code",
      "execution_count": null,
      "metadata": {
        "id": "7oBOt69JQV7Z"
      },
      "outputs": [],
      "source": [
        "# SHORTEST PATHS\n",
        "shortest_paths = {}\n",
        "for node in nodes:\n",
        "    shortest_paths[node[\"Label\"]]=[nodes[v][\"Label\"] for v in g_prop.get_all_shortest_paths(node)\n",
        "                                                    ]\n",
        "# SHOW DISTANCES OF SHORTEST PATHS BETWEEN ONE NODE AND EVERYBODY ELSE\n",
        "\n",
        "node_name = \"Lejla\"\n",
        "print(\"Shortest paths between\", node_name,\"and other nodes\", shortest_paths[node_name])\n",
        "\n",
        "distances = [len(path) for path in shortest_paths[node_name]]\n",
        "\n",
        "visual_style[\"vertex_color\"] = [\"pink\" if node[\"Label\"]==node_name else \"grey\" for node in nodes]\n",
        "visual_style[\"edge_color\"] = \"darkgrey\"\n",
        "\n",
        "visual_style[\"vertex_label\"] = distances\n",
        "\n",
        "ig.plot(g_prop, **visual_style)"
      ]
    },
    {
      "cell_type": "markdown",
      "metadata": {
        "id": "sH07mX-BQV7a"
      },
      "source": [
        "#### Clustering coefficient"
      ]
    },
    {
      "cell_type": "code",
      "execution_count": null,
      "metadata": {
        "id": "hqMsZC7oQV7a"
      },
      "outputs": [],
      "source": [
        "# GLOBAL OR LOCAL CLUSTERING COEFFICIENT - GENERAL INDICATION OF THE GRAPH'S TENDENCY TO BE ORGANISED INTO CLUSTERS\n",
        "\n",
        "# GLOBAL CC - NUMBER OF CLOSED TRIPLETS/NUMBER OF POSSIBLE TRIPLETS\n",
        "\n",
        "print(\"Global clustering coefficient\", g_prop.transitivity_undirected())\n",
        "\n",
        "# LOCAL CC - ARE THE NEIGHBOURS OF THE NODES ALSO CONNECTED?\n",
        "\n",
        "print(\"Local clustering components:\")\n",
        "local_ccs = g_prop.transitivity_local_undirected()\n",
        "sum_cc = 0\n",
        "for local_cc in local_ccs:\n",
        "    if not math.isnan(local_cc):\n",
        "        sum_cc += local_cc\n",
        "\n",
        "for node in nodes:\n",
        "        print(\"   Local clustering coefficient of node\", node[\"Label\"],\":\",local_ccs[node.index])\n",
        "\n",
        "\n",
        "# AVERAGE CC\n",
        "\n",
        "print(\"Average clustering component\", sum_cc/len(g_prop.vs()))\n"
      ]
    },
    {
      "cell_type": "markdown",
      "metadata": {
        "id": "bS6R1epKQV7a"
      },
      "source": [
        "#### Communities"
      ]
    },
    {
      "cell_type": "code",
      "execution_count": null,
      "metadata": {
        "id": "GgNM-snxQV7a"
      },
      "outputs": [],
      "source": [
        "# CLUSTERS, COMMUNITIES, GROUPS - WHAT ARE THE NODES THAT ARE MORE CONNECTED TO EACH OTHER THAN TO OTHER NODES\n",
        "# check out the different community algorithms and pick the one you'd like\n",
        "\n",
        "communities = g_prop.community_optimal_modularity()\n",
        "community_colors = random.sample(colors,len(communities))\n",
        "node_colors = {}\n",
        "counter = 0\n",
        "\n",
        "print(\"Communities in the network:\")\n",
        "\n",
        "for community in communities:\n",
        "    print(\"  \",[nodes[member][\"Label\"] for member in community])\n",
        "    for member in community:\n",
        "        node_colors[member] = community_colors[counter]\n",
        "\n",
        "    counter += 1\n",
        "\n",
        "visual_style[\"vertex_color\"] = [node_colors[node.index] for node in nodes]\n",
        "visual_style[\"vertex_label\"] = g.vs[\"label\"]\n",
        "\n",
        "ig.plot(g_prop, **visual_style)"
      ]
    },
    {
      "cell_type": "markdown",
      "metadata": {
        "id": "I-BkzDnCQV7b"
      },
      "source": [
        "#### Cliques"
      ]
    },
    {
      "cell_type": "code",
      "execution_count": null,
      "metadata": {
        "id": "4QgU0MfaQV7b"
      },
      "outputs": [],
      "source": [
        "# CLIQUES - TOTALLY CONNECTED SUBCOMPONENTS OF GRAPH\n",
        "\n",
        "#print(\"Cliques in graph\")\n",
        "#for clique in g_prop.cliques():\n",
        "#    print(\"   \",[nodes[node][\"Label\"] for node in clique])\n",
        "\n",
        "print(\"Maximal cliques in graph\")\n",
        "maximal_cliques = g_prop.maximal_cliques()\n",
        "for clique in maximal_cliques:\n",
        "    print(\"   \",[nodes[node][\"Label\"] for node in clique])\n",
        "\n",
        "largest_clique = g_prop.largest_cliques()\n",
        "\n",
        "print(\"Largest clique\",[nodes[node][\"Label\"] for node in largest_clique])\n",
        "\n",
        "visual_style[\"vertex_color\"] = [\"pink\" if node.index in largest_clique[0] else \"grey\" for node in nodes]\n",
        "\n",
        "\n",
        "ig.plot(g_prop, **visual_style)\n"
      ]
    },
    {
      "cell_type": "markdown",
      "metadata": {
        "id": "uo5lz_kjQV7c"
      },
      "source": [
        "#### Centralities"
      ]
    },
    {
      "cell_type": "code",
      "execution_count": null,
      "metadata": {
        "id": "SYHywwulQV7c"
      },
      "outputs": [],
      "source": [
        "# BETWEENESS - BEING A BRIDGE BETWEEN NODES; BETWEENNES CENTRALITY: NUMBER OF SHORTEST PATHS THROUGH A NODE\n",
        "\n",
        "\n",
        "print(\"Betweenness centrality:\"),\n",
        "betweenness = g_prop.betweenness(directed=False)\n",
        "for bc in betweenness:\n",
        "    print(\"   Betweeness centrality of\", nodes[betweenness.index(bc)][\"Label\"],\":\",bc)\n",
        "\n",
        "\n",
        "# CLOSENESS - BEING IN THE MIDDLE OF A NETWORK\n",
        "\n",
        "print(\"Closeness centrality:\"),\n",
        "closeness = g_prop.closeness()\n",
        "for node in nodes:\n",
        "        print(\"   Closeness centrality of\", node[\"Label\"],\":\",closeness[node.index])\n",
        "\n",
        "\n",
        "# PRESTIGE(EIGENVECTOR CENTRALITY) - BEING CLOSE TO WELL CONNECTED NODES\n",
        "\n",
        "eigenvector_centralities = g_prop.eigenvector_centrality()\n",
        "print(\"Eigenvector centrality:\"),\n",
        "eigenvector_centralities = g_prop.eigenvector_centrality()\n",
        "for node in nodes:\n",
        "    print(\"   Eigenvector centrality of\", node[\"Label\"],\":\",eigenvector_centralities[node.index])\n",
        "\n",
        "visual_style[\"vertex_label\"] = g_prop.vs[\"Label\"]\n",
        "visual_style[\"vertex_size\"] = [50*ec for ec in eigenvector_centralities]\n",
        "visual_style[\"vertex_color\"] = [\"maroon\" if bc>0.0 else \"white\" for bc in betweenness]\n",
        "visual_style[\"edge_color\"] = \"grey\"\n",
        "\n",
        "\n",
        "ig.plot(g_prop, **visual_style)\n"
      ]
    },
    {
      "cell_type": "markdown",
      "metadata": {
        "id": "CZbYMlDpC1cL"
      },
      "source": [
        "### Visualizing the network from Lab 2"
      ]
    },
    {
      "cell_type": "code",
      "source": [
        "import itertools"
      ],
      "metadata": {
        "id": "bnWPpIPGC5xX"
      },
      "execution_count": null,
      "outputs": []
    },
    {
      "cell_type": "code",
      "source": [
        "reddit_network = pd.read_csv(\"reddit_posts_stored-2.csv\",delimiter=\";\")"
      ],
      "metadata": {
        "id": "n1SjRdRXG3UZ"
      },
      "execution_count": null,
      "outputs": []
    },
    {
      "cell_type": "code",
      "source": [
        "reddit_network"
      ],
      "metadata": {
        "id": "n5Xs4NpjHSRv"
      },
      "execution_count": null,
      "outputs": []
    },
    {
      "cell_type": "code",
      "source": [
        "reddit_network.subreddit.unique()"
      ],
      "metadata": {
        "id": "Sgwo529yD5BS"
      },
      "execution_count": null,
      "outputs": []
    },
    {
      "cell_type": "code",
      "source": [
        "network = {}\n",
        "for group in reddit_network.groupby(\"subreddit\"):\n",
        "  authors = set(group[1][\"author\"])\n",
        "  for pair in itertools.product(authors, authors):\n",
        "    if pair[0]!=pair[1] and not(pair[::-1] in network):\n",
        "      network.setdefault(pair,0)\n",
        "      network[pair] += 1"
      ],
      "metadata": {
        "id": "wSJpqaCnBmWu"
      },
      "execution_count": null,
      "outputs": []
    },
    {
      "cell_type": "code",
      "source": [
        "network_df = pd.DataFrame.from_dict(network, orient=\"index\")"
      ],
      "metadata": {
        "id": "Sg70MSbFP9Gh"
      },
      "execution_count": null,
      "outputs": []
    },
    {
      "cell_type": "code",
      "source": [
        "network_df.reset_index(inplace=True)\n",
        "network_df.columns = [\"pair\",\"weight\"]\n",
        "network_df.sort_values(by=\"weight\",inplace=True, ascending=False)\n",
        "network_df = network_df.reset_index().drop(columns=[\"index\"])\n",
        "network_df"
      ],
      "metadata": {
        "id": "IWtLyitEP6CU"
      },
      "execution_count": null,
      "outputs": []
    },
    {
      "cell_type": "code",
      "metadata": {
        "scrolled": false,
        "id": "NJvNvzGXy8Kg"
      },
      "source": [
        "#to get weighted graph we need a list of 3-element tuplels (u,v,w) where u and v are nodes and w is a number representing weight\n",
        "up_weighted = []\n",
        "for edge in network:\n",
        "    #we can filter edges by weight by uncommenting the next line and setting desired weight threshold\n",
        "    #if(network[edge])>1:\n",
        "    up_weighted.append((edge[0],edge[1],network[edge]))\n",
        "\n",
        "G = nx.Graph()\n",
        "G.add_weighted_edges_from(up_weighted)"
      ],
      "execution_count": null,
      "outputs": []
    },
    {
      "cell_type": "code",
      "metadata": {
        "id": "eSneLIqZNvt1"
      },
      "source": [
        "print(len(G.nodes()))\n",
        "print(len(G.edges()))"
      ],
      "execution_count": null,
      "outputs": []
    },
    {
      "cell_type": "code",
      "execution_count": null,
      "metadata": {
        "id": "Gek-j9H-_rkj"
      },
      "outputs": [],
      "source": [
        "colors = ig.drawing.colors.known_colors\n",
        "\n",
        "g = ig.Graph.from_networkx(G)\n",
        "g.vs[\"label\"] = g.vs[\"_nx_name\"]\n",
        "\n",
        "visual_style = {}\n",
        "#node size\n",
        "visual_style[\"vertex_size\"] = 20\n",
        "#node color\n",
        "visual_style[\"vertex_label_color\"] = [random.choice(list(colors.keys())) for v in g.vs()]\n",
        "#node label\n",
        "visual_style[\"vertex_label\"] = g.vs[\"label\"]\n",
        "#node shape\n",
        "visual_style[\"vertex_shape\"] = \"hidden\"\n",
        "#label size\n",
        "visual_style[\"vertex_label_size\"] = [0.02*degree for degree in g.degree()]\n",
        "#edge color\n",
        "visual_style[\"edge_color\"] = visual_style[\"vertex_label_color\"]\n",
        "#edge thickness\n",
        "visual_style[\"edge_width\"] = [0.001 *degree for degree in g.degree()]\n",
        "#bounding box\n",
        "visual_style[\"bbox\"] = (1024, 1024)\n",
        "#margin\n",
        "visual_style[\"margin\"] = 10\n",
        "#layout\n",
        "visual_style[\"layout\"] = \"fr\"\n",
        "#background\n",
        "visual_style[\"background\"] = \"black\"\n",
        "\n",
        "ig.plot(g, \"worldcup.png\", **visual_style)"
      ]
    },
    {
      "cell_type": "markdown",
      "metadata": {
        "id": "FPHdjX0gQV7e"
      },
      "source": [
        "## References"
      ]
    },
    {
      "cell_type": "markdown",
      "metadata": {
        "id": "44lAGKQxQV7f"
      },
      "source": [
        "https://igraph.org/python/doc/igraph\n",
        "\n",
        "https://igraph.org/python/doc/tutorial/tutorial.html"
      ]
    }
  ],
  "metadata": {
    "colab": {
      "collapsed_sections": [
        "Nwy6MeGur9i-",
        "XjqkKiW79two",
        "IeCEI3ZpQV61"
      ],
      "provenance": []
    },
    "kernelspec": {
      "display_name": "Python 3 (ipykernel)",
      "language": "python",
      "name": "python3"
    },
    "language_info": {
      "codemirror_mode": {
        "name": "ipython",
        "version": 3
      },
      "file_extension": ".py",
      "mimetype": "text/x-python",
      "name": "python",
      "nbconvert_exporter": "python",
      "pygments_lexer": "ipython3",
      "version": "3.12.0"
    }
  },
  "nbformat": 4,
  "nbformat_minor": 0
}